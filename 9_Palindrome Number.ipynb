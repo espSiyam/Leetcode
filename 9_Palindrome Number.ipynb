{
 "cells": [
  {
   "cell_type": "code",
   "execution_count": 14,
   "metadata": {},
   "outputs": [
    {
     "name": "stdout",
     "output_type": "stream",
     "text": [
      "False\n",
      "Not Palindrome\n"
     ]
    }
   ],
   "source": [
    "x = -111\n",
    "temp = x\n",
    "\n",
    "rev = 0\n",
    "\n",
    "if x < 0:\n",
    "    print(\"False\")\n",
    "\n",
    "while x!= 0:\n",
    "    digit = x % 10\n",
    "    rev = rev * 10 + digit\n",
    "    x = int(x/10)\n",
    "    \n",
    "if temp == rev:\n",
    "    print(\"Palindrome\")\n",
    "else:\n",
    "    print(\"Not Palindrome\")"
   ]
  },
  {
   "cell_type": "code",
   "execution_count": null,
   "metadata": {},
   "outputs": [],
   "source": [
    "x = -111\n",
    "temp = x\n",
    "\n",
    "rev = 0\n",
    "\n",
    "if x < 0:\n",
    "    return False\n",
    "\n",
    "while x!= 0:\n",
    "    digit = x % 10\n",
    "    rev = rev * 10 + digit\n",
    "    x = int(x/10)\n",
    "    \n",
    "if temp == rev:\n",
    "    return True\n",
    "else:\n",
    "    return False"
   ]
  }
 ],
 "metadata": {
  "kernelspec": {
   "display_name": "Python 3",
   "language": "python",
   "name": "python3"
  },
  "language_info": {
   "codemirror_mode": {
    "name": "ipython",
    "version": 3
   },
   "file_extension": ".py",
   "mimetype": "text/x-python",
   "name": "python",
   "nbconvert_exporter": "python",
   "pygments_lexer": "ipython3",
   "version": "3.7.7"
  }
 },
 "nbformat": 4,
 "nbformat_minor": 4
}
