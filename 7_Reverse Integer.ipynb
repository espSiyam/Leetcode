{
 "cells": [
  {
   "cell_type": "code",
   "execution_count": 47,
   "metadata": {},
   "outputs": [],
   "source": [
    "num = 123"
   ]
  },
  {
   "cell_type": "code",
   "execution_count": 48,
   "metadata": {},
   "outputs": [],
   "source": [
    "rev = 0\n",
    "if num < 0:\n",
    "    num = num * -1\n",
    "    while num!=0:\n",
    "        digit = num%10\n",
    "        rev = rev*10 + digit\n",
    "        num = int(num/10)\n",
    "    rev = rev * -1\n",
    "else:\n",
    "    while num!=0:\n",
    "        digit = num%10\n",
    "        rev = rev*10 + digit\n",
    "        num = int(num/10)"
   ]
  },
  {
   "cell_type": "code",
   "execution_count": 50,
   "metadata": {},
   "outputs": [],
   "source": []
  },
  {
   "cell_type": "code",
   "execution_count": 56,
   "metadata": {},
   "outputs": [
    {
     "data": {
      "text/plain": [
       "9646324351"
      ]
     },
     "execution_count": 56,
     "metadata": {},
     "output_type": "execute_result"
    }
   ],
   "source": [
    "x = 1534236469\n",
    "\n",
    "rev = 0\n",
    "if x < 0:\n",
    "    x = x * -1\n",
    "    while x!=0:\n",
    "        digit = x%10\n",
    "        rev = rev*10 + digit\n",
    "        x = int(x/10)\n",
    "    rev = rev * -1\n",
    "else:\n",
    "    while x!=0:\n",
    "        digit = x%10\n",
    "        rev = rev*10 + digit\n",
    "        x = int(x/10)\n",
    "        \n",
    "rev"
   ]
  },
  {
   "cell_type": "code",
   "execution_count": null,
   "metadata": {},
   "outputs": [],
   "source": []
  },
  {
   "cell_type": "code",
   "execution_count": 12,
   "metadata": {},
   "outputs": [
    {
     "data": {
      "text/plain": [
       "0"
      ]
     },
     "execution_count": 12,
     "metadata": {},
     "output_type": "execute_result"
    }
   ],
   "source": [
    "x = 1563847412\n",
    "isNegative = False\n",
    "\n",
    "if x < 0:\n",
    "    isNegative = True\n",
    "    x = -x\n",
    "\n",
    "rev = 0\n",
    "while x!=0:\n",
    "    digit = x%10\n",
    "    rev = rev*10 + digit\n",
    "    x = int(x/10)\n",
    "\n",
    "if (rev >= 2 ** 31 - 1 or rev <= -2 ** 32):\n",
    "    rev = 0\n",
    "\n",
    "elif isNegative:\n",
    "    rev = rev * -1\n",
    "    \n",
    "else:\n",
    "    rev\n",
    "\n",
    "rev"
   ]
  },
  {
   "cell_type": "code",
   "execution_count": 10,
   "metadata": {},
   "outputs": [
    {
     "data": {
      "text/plain": [
       "4294967295"
      ]
     },
     "execution_count": 10,
     "metadata": {},
     "output_type": "execute_result"
    }
   ],
   "source": [
    "2 ** 32 -1"
   ]
  },
  {
   "cell_type": "code",
   "execution_count": null,
   "metadata": {},
   "outputs": [],
   "source": [
    "isNegative = False\n",
    "\n",
    "if x < 0:\n",
    "    isNegative = True\n",
    "    x = -x\n",
    "\n",
    "rev = 0\n",
    "while x!=0:\n",
    "    digit = x%10\n",
    "    rev = rev*10 + digit\n",
    "    x = int(x/10)\n",
    "\n",
    "if (rev >= 2 ** 31 - 1 or rev <= -2 ** 32):\n",
    "    return 0\n",
    "\n",
    "elif isNegative:\n",
    "    return rev * -1\n",
    "    \n",
    "else:\n",
    "    return rev"
   ]
  }
 ],
 "metadata": {
  "kernelspec": {
   "display_name": "Python 3",
   "language": "python",
   "name": "python3"
  },
  "language_info": {
   "codemirror_mode": {
    "name": "ipython",
    "version": 3
   },
   "file_extension": ".py",
   "mimetype": "text/x-python",
   "name": "python",
   "nbconvert_exporter": "python",
   "pygments_lexer": "ipython3",
   "version": "3.7.7"
  }
 },
 "nbformat": 4,
 "nbformat_minor": 4
}
