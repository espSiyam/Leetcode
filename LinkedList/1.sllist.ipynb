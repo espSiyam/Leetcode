{
 "cells": [
  {
   "cell_type": "code",
   "execution_count": 1,
   "metadata": {},
   "outputs": [],
   "source": [
    "class Node:\n",
    "    def __init__(self, value = None):\n",
    "        self.value = value\n",
    "        self.next = None\n",
    "\n",
    "class SLinkedList:\n",
    "    def __init__(self):\n",
    "        self.head = None\n",
    "        self.tail = None\n",
    "    \n",
    "    def __iter__(self): # For printing the linked list\n",
    "        node = self.head  \n",
    "        while node:\n",
    "            yield node\n",
    "            node = node.next\n",
    "\n",
    "    def insertSLL(self, value, location):\n",
    "        newNode = Node(value) \n",
    "        if self.head is None:\n",
    "            self.head = newNode\n",
    "            self.tail = newNode   \n",
    "        else:\n",
    "            if location == 0: # Insert element at the begining of the linked list\n",
    "                newNode.next = self.head\n",
    "                self.head = newNode\n",
    "            elif location == 1: # Insert element at the end of the linked list\n",
    "                newNode.next = None\n",
    "                self.tail.next = newNode\n",
    "                self.tail = newNode\n",
    "            else: # Insert element at the nth position of the linked list\n",
    "                nthnode = self.head\n",
    "                index = 0\n",
    "                while index < location-1:\n",
    "                    nthnode = nthnode.next\n",
    "                    index += 1\n",
    "                newNode.next = nthnode.next\n",
    "                nthnode.next = newNode\n",
    "\n",
    "    def traversal(self):\n",
    "            if self.head == None:\n",
    "                print(\"Linked list is empty!\")\n",
    "            else:\n",
    "                nodes = self.head\n",
    "                while nodes:\n",
    "                    print(nodes.value, end=\" >> \")\n",
    "                    nodes = nodes.next\n",
    "\n",
    "    def search_node(self, node_val):\n",
    "        if self.head == None:\n",
    "            print(\"Linked list is empty!\")\n",
    "        else:\n",
    "            node = self.head\n",
    "            while node:\n",
    "                if node.value == node_val:\n",
    "                    return f\"Node is found: {node.value}\"\n",
    "                node = node.next\n",
    "            return \"Node is not found\"\n",
    "\n",
    "    def deleteNode(self, location):\n",
    "        if self.head == None:\n",
    "            print(\"SLL does not exist\")\n",
    "        else:\n",
    "            if location == 0: # delete node at the begaining\n",
    "                if self.head == self.tail: # if there is only one node\n",
    "                    self.head = None\n",
    "                    self.tail = None \n",
    "                else: # if there is multiple nodes\n",
    "                    self.head = self.head.next\n",
    "\n",
    "            elif location == 1: # delete node from the end position\n",
    "                if self.head == self.tail: # if there is only one node\n",
    "                    self.head = None\n",
    "                    self.tail = None \n",
    "                else: # if there is multiple nodes. We will travers till the previous node of the last node and set it as the last node.\n",
    "                    node = self.head\n",
    "                    while node:\n",
    "                        if node.next == self.tail:\n",
    "                            break\n",
    "                        node = node.next\n",
    "                    node.next = None\n",
    "                    self.tail = node\n",
    "            else: # if we want to delete the n'th node\n",
    "                tempNode = self.head\n",
    "                index = 0\n",
    "                while index < location - 1:\n",
    "                    tempNode = tempNode.next\n",
    "                    index += 1\n",
    "                tempNode.next = tempNode.next.next # Skipping the node after the current node, thus deleting the mid node.\n"
   ]
  },
  {
   "cell_type": "code",
   "execution_count": 2,
   "metadata": {},
   "outputs": [],
   "source": [
    "singlylinkedlist = SLinkedList()\n",
    "\n",
    "singlylinkedlist.insertSLL(1,1)\n",
    "singlylinkedlist.insertSLL(2,1)\n",
    "singlylinkedlist.insertSLL(3,1)\n",
    "singlylinkedlist.insertSLL(4,1)\n",
    "singlylinkedlist.insertSLL(0,0)\n",
    "singlylinkedlist.insertSLL(1000,3)\n",
    "\n",
    "# print([node.value for node in singlylinkedlist])"
   ]
  },
  {
   "attachments": {},
   "cell_type": "markdown",
   "metadata": {},
   "source": [
    "## Travarsal of linked List"
   ]
  },
  {
   "cell_type": "code",
   "execution_count": 3,
   "metadata": {},
   "outputs": [
    {
     "name": "stdout",
     "output_type": "stream",
     "text": [
      "0 >> 1 >> 2 >> 1000 >> 3 >> 4 >> "
     ]
    }
   ],
   "source": [
    "singlylinkedlist.traversal()"
   ]
  },
  {
   "cell_type": "code",
   "execution_count": 4,
   "metadata": {},
   "outputs": [
    {
     "name": "stdout",
     "output_type": "stream",
     "text": [
      "0 >> 1 >> 2 >> 3 >> 4 >> "
     ]
    }
   ],
   "source": [
    "singlylinkedlist.deleteNode(3)\n",
    "singlylinkedlist.traversal()"
   ]
  },
  {
   "cell_type": "code",
   "execution_count": 5,
   "metadata": {},
   "outputs": [
    {
     "data": {
      "text/plain": [
       "'Node is found: 3'"
      ]
     },
     "execution_count": 5,
     "metadata": {},
     "output_type": "execute_result"
    }
   ],
   "source": [
    "singlylinkedlist.search_node(3)"
   ]
  },
  {
   "cell_type": "code",
   "execution_count": null,
   "metadata": {},
   "outputs": [],
   "source": []
  }
 ],
 "metadata": {
  "kernelspec": {
   "display_name": "Python 3",
   "language": "python",
   "name": "python3"
  },
  "language_info": {
   "codemirror_mode": {
    "name": "ipython",
    "version": 3
   },
   "file_extension": ".py",
   "mimetype": "text/x-python",
   "name": "python",
   "nbconvert_exporter": "python",
   "pygments_lexer": "ipython3",
   "version": "3.11.2"
  },
  "orig_nbformat": 4
 },
 "nbformat": 4,
 "nbformat_minor": 2
}
