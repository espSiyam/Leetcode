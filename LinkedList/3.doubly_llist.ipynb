{
 "cells": [
  {
   "cell_type": "code",
   "execution_count": 1,
   "metadata": {},
   "outputs": [],
   "source": [
    "class Node:\n",
    "    def __init__(self, value=None):\n",
    "        self.value = value\n",
    "        self.prev = None\n",
    "        self.next = None \n",
    "\n",
    "class doublyLinkedList:\n",
    "    def __init__(self):\n",
    "        self.head = None\n",
    "        self.tail = None\n",
    "\n",
    "    def __iter__(self):\n",
    "        node = self.head\n",
    "        while node:\n",
    "            yield node\n",
    "            node = node.next\n",
    "\n",
    "    def createDLL(self, nodeValue):\n",
    "        node = Node(nodeValue)\n",
    "        node.prev = None\n",
    "        node.next = None\n",
    "        self.head = node\n",
    "        self.tail = node  \n",
    "        return \"The DLL is create successfully!\"\n",
    "\n",
    "    def insertNode(self, nodeValue, location):\n",
    "        if self.head is None:\n",
    "            print(\"The node can't be inserted!\")\n",
    "        else:\n",
    "            newNode = Node(nodeValue)\n",
    "            if location == 0:\n",
    "                newNode.prev = None\n",
    "                newNode.next = self.head\n",
    "                self.head.prev = newNode\n",
    "                self.head = newNode\n",
    "            elif location == 1:\n",
    "                newNode.next = None\n",
    "                newNode.prev = self.tail\n",
    "                self.tail.next = newNode\n",
    "                self.tail = newNode\n",
    "            else:\n",
    "                currentNode = self.head\n",
    "                index = 0\n",
    "                while index < location -1:\n",
    "                    currentNode = currentNode.next\n",
    "                    index += 1\n",
    "                newNode.next = currentNode.next\n",
    "                newNode.prev = currentNode\n",
    "                currentNode.next.prev = newNode\n",
    "                currentNode.next = newNode\n",
    "    \n",
    "    def deleteNode(self, location):\n",
    "        if self.head is None:\n",
    "            print(\"There is not any element in DLL\")\n",
    "        else:\n",
    "            if location == 0:\n",
    "                if self.head == self.tail:\n",
    "                    self.head = None\n",
    "                    self.tail = None\n",
    "                else:\n",
    "                    self.head = self.head.next\n",
    "                    self.head.prev = None\n",
    "            elif location == 1:\n",
    "                if self.head = self.tail:\n",
    "                    self.head = None\n",
    "                    self.tail = None\n",
    "                else:\n",
    "                    self.tail = self.tail.prev\n",
    "                    self.tail.next = None\n",
    "            else:\n",
    "                current_node = self.head\n",
    "                index = 0\n",
    "                while index < location -1:\n",
    "                    current_node = current_node.next\n",
    "                    index += 1\n",
    "                current_node.next = current_node.next.next\n",
    "                current_node.next.prev = current_node\n",
    "            print(\"The node has been deleted\")"
   ]
  },
  {
   "cell_type": "code",
   "execution_count": 5,
   "metadata": {},
   "outputs": [
    {
     "name": "stdout",
     "output_type": "stream",
     "text": [
      "[5]\n"
     ]
    }
   ],
   "source": [
    "doublyLL = doublyLinkedList()\n",
    "doublyLL.createDLL(5)\n",
    "print([node.value for node in doublyLL])"
   ]
  },
  {
   "cell_type": "code",
   "execution_count": 6,
   "metadata": {},
   "outputs": [
    {
     "name": "stdout",
     "output_type": "stream",
     "text": [
      "[0, 5, 99, 2]\n"
     ]
    }
   ],
   "source": [
    "doublyLL.insertNode(0,0)\n",
    "doublyLL.insertNode(2,1)\n",
    "doublyLL.insertNode(99,2)\n",
    "print([node.value for node in doublyLL])"
   ]
  },
  {
   "cell_type": "code",
   "execution_count": null,
   "metadata": {},
   "outputs": [],
   "source": []
  }
 ],
 "metadata": {
  "kernelspec": {
   "display_name": "concured",
   "language": "python",
   "name": "python3"
  },
  "language_info": {
   "codemirror_mode": {
    "name": "ipython",
    "version": 3
   },
   "file_extension": ".py",
   "mimetype": "text/x-python",
   "name": "python",
   "nbconvert_exporter": "python",
   "pygments_lexer": "ipython3",
   "version": "3.11.2"
  },
  "orig_nbformat": 4
 },
 "nbformat": 4,
 "nbformat_minor": 2
}
