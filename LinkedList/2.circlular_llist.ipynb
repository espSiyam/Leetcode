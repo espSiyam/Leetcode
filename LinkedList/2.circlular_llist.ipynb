{
 "cells": [
  {
   "cell_type": "code",
   "execution_count": 1,
   "metadata": {},
   "outputs": [],
   "source": [
    "class Node:\n",
    "    def __init__(self, value = None):\n",
    "        self.value = value\n",
    "        self.next = None\n",
    "\n",
    "class CircylarSinglyLinkedList:\n",
    "    def __init__(self):\n",
    "        self.head = None\n",
    "        self.tail = None\n",
    "\n",
    "    def __iter__(self):\n",
    "        node = self.head\n",
    "        while node:\n",
    "            yield node\n",
    "            node = node.next\n",
    "            if node == self.tail.next:\n",
    "                break\n",
    "            \n",
    "\n",
    "    def createCSLL(self, nodeValue):\n",
    "        node = Node(nodeValue)\n",
    "        node.next = node\n",
    "        self.head = node\n",
    "        self.tail = node\n",
    "        return \"SLL has been created\"\n",
    "    \n",
    "    def insertSLL(self, nodeValue, location):\n",
    "        if self.head is None:\n",
    "            return \"The head reference is None\"\n",
    "        else:\n",
    "            newNode = Node(nodeValue)\n",
    "            if location == 0: # Inserting element at the begining of the linked list.\n",
    "                newNode.next = self.head\n",
    "                self.head = newNode\n",
    "                self.tail.next = newNode # self.head also should work\n",
    "            elif location == 1:\n",
    "                self.tail.next = newNode\n",
    "                newNode.next = self.head\n",
    "                self.tail = newNode\n",
    "            else:\n",
    "                tempNode = self.head \n",
    "                index = 0\n",
    "                while index < location - 1:\n",
    "                    tempNode = tempNode.next\n",
    "                    index += 1\n",
    "                nextNode = tempNode.next\n",
    "                tempNode.next = newNode\n",
    "                newNode.next = nextNode\n",
    "            return \"Insertion has been completed\"\n",
    "        \n",
    "    def deleteNode(self, location):\n",
    "        if self.head is None:\n",
    "            print(\"There is not any node in this linked list\")\n",
    "        else:\n",
    "            if location == 0:  # Deleting the first node\n",
    "                if self.head == self.tail:  # If there is only one node in the linked list\n",
    "                    self.head.next = None\n",
    "                    self.head = None\n",
    "                    self.tail = None\n",
    "                else:\n",
    "                    self.head = self.head.next\n",
    "                    self.tail.next = self.head\n",
    "            elif location == 1:  # Deleting the last node\n",
    "                if self.head == self.tail:  # If there is only one node in the linked list\n",
    "                    self.head.next = None\n",
    "                    self.head = None\n",
    "                    self.tail = None\n",
    "                else:\n",
    "                    node = self.head\n",
    "                    while node:\n",
    "                        if node.next == self.tail:\n",
    "                            break\n",
    "                        node = node.next\n",
    "                    self.tail = node\n",
    "                    node.next = self.head\n",
    "            else:  # Deleting a node at a specific location\n",
    "                currentNode = self.head\n",
    "                index = 0\n",
    "                while index < location - 1:\n",
    "                    currentNode = currentNode.next\n",
    "                    index += 1\n",
    "                nodeToDelete = currentNode.next\n",
    "                currentNode.next = nodeToDelete.next\n"
   ]
  },
  {
   "cell_type": "code",
   "execution_count": 7,
   "metadata": {},
   "outputs": [
    {
     "data": {
      "text/plain": [
       "'SLL has been created'"
      ]
     },
     "execution_count": 7,
     "metadata": {},
     "output_type": "execute_result"
    }
   ],
   "source": [
    "circularSLL = CircylarSinglyLinkedList()\n",
    "circularSLL.createCSLL(1)"
   ]
  },
  {
   "cell_type": "code",
   "execution_count": 8,
   "metadata": {},
   "outputs": [
    {
     "name": "stdout",
     "output_type": "stream",
     "text": [
      "[9, 0, 1, 5, 2, 3]\n"
     ]
    }
   ],
   "source": [
    "circularSLL.insertSLL(0,0)\n",
    "circularSLL.insertSLL(2,1)\n",
    "circularSLL.insertSLL(3,1)\n",
    "circularSLL.insertSLL(5,2)\n",
    "circularSLL.insertSLL(9,0)\n",
    "\n",
    "\n",
    "print([node.value for node in circularSLL])"
   ]
  },
  {
   "cell_type": "code",
   "execution_count": 9,
   "metadata": {},
   "outputs": [
    {
     "name": "stdout",
     "output_type": "stream",
     "text": [
      "[9, 0, 5, 2, 3]\n"
     ]
    }
   ],
   "source": [
    "circularSLL.deleteNode(2)\n",
    "print([node.value for node in circularSLL])\n"
   ]
  },
  {
   "cell_type": "code",
   "execution_count": null,
   "metadata": {},
   "outputs": [],
   "source": []
  }
 ],
 "metadata": {
  "kernelspec": {
   "display_name": "concured",
   "language": "python",
   "name": "python3"
  },
  "language_info": {
   "codemirror_mode": {
    "name": "ipython",
    "version": 3
   },
   "file_extension": ".py",
   "mimetype": "text/x-python",
   "name": "python",
   "nbconvert_exporter": "python",
   "pygments_lexer": "ipython3",
   "version": "3.11.2"
  },
  "orig_nbformat": 4
 },
 "nbformat": 4,
 "nbformat_minor": 2
}
