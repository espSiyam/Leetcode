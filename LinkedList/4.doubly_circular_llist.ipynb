{
 "cells": [
  {
   "cell_type": "code",
   "execution_count": 7,
   "metadata": {},
   "outputs": [],
   "source": [
    "class Node:\n",
    "    def __init__(self, value=None):\n",
    "        self.value = value\n",
    "        self.prev = None\n",
    "        self.next = None\n",
    "\n",
    "class DoubleCircularLinkedList:\n",
    "    def __init__(self):\n",
    "        self.head = None\n",
    "        self.tail = None\n",
    "\n",
    "    def __iter__(self):\n",
    "        current_node = self.head\n",
    "        while current_node:\n",
    "            yield current_node\n",
    "            current_node = current_node.next\n",
    "            if current_node == self.tail.next:\n",
    "                break\n",
    "\n",
    "    # Create a circular doubly linked list\n",
    "    def create(self, node_value):\n",
    "        new_node = Node(node_value)\n",
    "        self.head = new_node\n",
    "        self.tail = new_node\n",
    "        new_node.next = new_node  # Make the node point to itself\n",
    "        new_node.prev = new_node  # Make the node point to itself\n",
    "        return \"CDLL is created successfully\"\n",
    "\n",
    "    # Insert method in doubly cicular linked list\n",
    "    def insertCDLL(self, value, location):\n",
    "        if self.head is None:\n",
    "            return \"The CDLL does not exist\"\n",
    "        else:\n",
    "            newNode = Node(value)\n",
    "            if location == 0: # Insert in the beginning of CDLL\n",
    "                newNode.next = self.head\n",
    "                newNode.prev = self.tail\n",
    "                self.head.prev = newNode\n",
    "                self.tail.next = newNode\n",
    "                self.head = newNode \n",
    "            elif location == 1: # Insert in the end of the CDLL\n",
    "                newNode.prev = self.tail\n",
    "                newNode.next = self.head\n",
    "                self.tail.next = newNode\n",
    "                self.head.prev = newNode\n",
    "                self.tail = newNode\n",
    "            else: # Insert in the n'th position of CDLL\n",
    "                currentNode = self.head\n",
    "                index = 0\n",
    "                while index < location - 1:\n",
    "                    currentNode = currentNode.next\n",
    "                    index += 1\n",
    "                newNode.prev = currentNode\n",
    "                newNode.next = currentNode.next\n",
    "                currentNode.next = newNode\n",
    "                newNode.next.prev = newNode\n",
    "            return \"The node has been successfull inserted\""
   ]
  },
  {
   "cell_type": "code",
   "execution_count": 10,
   "metadata": {},
   "outputs": [
    {
     "name": "stdout",
     "output_type": "stream",
     "text": [
      "[0, 5, 1, 99, 2, 3]\n"
     ]
    }
   ],
   "source": [
    "# Usage example\n",
    "linked_list = DoubleCircularLinkedList()\n",
    "linked_list.create(5)\n",
    "linked_list.insertCDLL(0, 0)\n",
    "linked_list.insertCDLL(1, 1)\n",
    "linked_list.insertCDLL(2, 1)\n",
    "linked_list.insertCDLL(3, 1)\n",
    "linked_list.insertCDLL(99, 3)\n",
    "\n",
    "\n",
    "# Iterate over the circular doubly linked list\n",
    "print([node.value for node in linked_list])"
   ]
  },
  {
   "cell_type": "code",
   "execution_count": null,
   "metadata": {},
   "outputs": [],
   "source": []
  }
 ],
 "metadata": {
  "kernelspec": {
   "display_name": "concured",
   "language": "python",
   "name": "python3"
  },
  "language_info": {
   "codemirror_mode": {
    "name": "ipython",
    "version": 3
   },
   "file_extension": ".py",
   "mimetype": "text/x-python",
   "name": "python",
   "nbconvert_exporter": "python",
   "pygments_lexer": "ipython3",
   "version": "3.11.2"
  },
  "orig_nbformat": 4
 },
 "nbformat": 4,
 "nbformat_minor": 2
}
