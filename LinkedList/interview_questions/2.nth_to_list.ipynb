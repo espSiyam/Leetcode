{
 "cells": [
  {
   "attachments": {},
   "cell_type": "markdown",
   "metadata": {},
   "source": [
    "## Method 1 (Length of the linked list is known)"
   ]
  },
  {
   "cell_type": "code",
   "execution_count": 6,
   "metadata": {},
   "outputs": [],
   "source": [
    "from linkedlist import LinkedList\n",
    "\n",
    "def nth_last(llist, position):\n",
    "    curr_node = llist.head\n",
    "    index = 1\n",
    "    while curr_node:\n",
    "        if index == position:\n",
    "            print(curr_node.value)\n",
    "        curr_node = curr_node.next\n",
    "        index += 1"
   ]
  },
  {
   "cell_type": "code",
   "execution_count": 7,
   "metadata": {},
   "outputs": [
    {
     "name": "stdout",
     "output_type": "stream",
     "text": [
      "5\n",
      "9 > 6 > 4 > 1 > 10\n"
     ]
    }
   ],
   "source": [
    "llist = LinkedList()\n",
    "llist.generate(5,0,10)\n",
    "length = len(llist)\n",
    "print(length)\n",
    "print(llist)"
   ]
  },
  {
   "cell_type": "code",
   "execution_count": 8,
   "metadata": {},
   "outputs": [
    {
     "name": "stdout",
     "output_type": "stream",
     "text": [
      "1\n"
     ]
    }
   ],
   "source": [
    "nth = 2\n",
    "from_first = length - (nth-1)\n",
    "nth_last(llist, from_first)"
   ]
  },
  {
   "attachments": {},
   "cell_type": "markdown",
   "metadata": {},
   "source": [
    "## Method 2 (Length is unknown)"
   ]
  },
  {
   "cell_type": "code",
   "execution_count": 9,
   "metadata": {},
   "outputs": [],
   "source": [
    "def n_to_last(llist, n):\n",
    "    position1 = llist.head\n",
    "    position2 = llist.head\n",
    "    for i in range(n):\n",
    "        if position2 == None:\n",
    "            return None\n",
    "        position2 = position2.next\n",
    "    while position2:\n",
    "        position1 = position1.next\n",
    "        position2 = position2.next\n",
    "    # After returning from the while loop, position 2 is in None node (After the last) and position1 is in the nth node.\n",
    "    return position1"
   ]
  },
  {
   "cell_type": "code",
   "execution_count": 10,
   "metadata": {},
   "outputs": [
    {
     "name": "stdout",
     "output_type": "stream",
     "text": [
      "10 > 8 > 2 > 7 > 0 > 2 > 10 > 2 > 8 > 7\n",
      "8\n"
     ]
    }
   ],
   "source": [
    "from linkedlist import LinkedList\n",
    "\n",
    "llist = LinkedList()\n",
    "llist.generate(10, 0, 10)\n",
    "print(llist)\n",
    "print(n_to_last(llist, 2))"
   ]
  }
 ],
 "metadata": {
  "kernelspec": {
   "display_name": "concured",
   "language": "python",
   "name": "python3"
  },
  "language_info": {
   "codemirror_mode": {
    "name": "ipython",
    "version": 3
   },
   "file_extension": ".py",
   "mimetype": "text/x-python",
   "name": "python",
   "nbconvert_exporter": "python",
   "pygments_lexer": "ipython3",
   "version": "3.11.2"
  },
  "orig_nbformat": 4
 },
 "nbformat": 4,
 "nbformat_minor": 2
}
