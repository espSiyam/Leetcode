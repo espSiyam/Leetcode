{
 "cells": [
  {
   "cell_type": "code",
   "execution_count": 86,
   "metadata": {},
   "outputs": [],
   "source": [
    "from linkedlist import LinkedList"
   ]
  },
  {
   "cell_type": "code",
   "execution_count": 87,
   "metadata": {},
   "outputs": [],
   "source": [
    "def nth_to_last(llist, nth):\n",
    "    pointer1 = llist.head\n",
    "    pointer2 = llist.head\n",
    "\n",
    "    for i in range(nth):\n",
    "        pointer2 = pointer2.next\n",
    "    \n",
    "    while pointer2:\n",
    "        print(\"pointer1\",pointer1.value)\n",
    "        print(\"pointer2\",pointer2.value)\n",
    "        pointer1 = pointer1.next\n",
    "        pointer2 = pointer2.next\n",
    "    return pointer1.value"
   ]
  },
  {
   "cell_type": "code",
   "execution_count": 88,
   "metadata": {},
   "outputs": [
    {
     "name": "stdout",
     "output_type": "stream",
     "text": [
      "42 > 48 > 46 > 47 > 45 > 46 > 40 > 41 > 49 > 47\n",
      "pointer1 42\n",
      "pointer2 46\n",
      "pointer1 48\n",
      "pointer2 47\n",
      "pointer1 46\n",
      "pointer2 45\n",
      "pointer1 47\n",
      "pointer2 46\n",
      "pointer1 45\n",
      "pointer2 40\n",
      "pointer1 46\n",
      "pointer2 41\n",
      "pointer1 40\n",
      "pointer2 49\n",
      "pointer1 41\n",
      "pointer2 47\n",
      "49\n"
     ]
    }
   ],
   "source": [
    "llist = LinkedList()\n",
    "llist.generate(10, 40, 50)\n",
    "print(llist)\n",
    "print(nth_to_last(llist, 2))"
   ]
  },
  {
   "cell_type": "code",
   "execution_count": 89,
   "metadata": {},
   "outputs": [
    {
     "name": "stdout",
     "output_type": "stream",
     "text": [
      "pointer 2: 42\n",
      "pointer 2: 48\n",
      "Last value of pointer: 46\n"
     ]
    }
   ],
   "source": [
    "pointer1 = llist.head\n",
    "pointer2 = llist.head\n",
    "nth = 2\n",
    "for i in range(nth):\n",
    "    print(\"pointer 2:\", pointer2)\n",
    "    pointer2 = pointer2.next\n",
    "\n",
    "print(\"Last value of pointer:\", pointer2)"
   ]
  },
  {
   "cell_type": "code",
   "execution_count": null,
   "metadata": {},
   "outputs": [],
   "source": []
  }
 ],
 "metadata": {
  "kernelspec": {
   "display_name": "concured",
   "language": "python",
   "name": "python3"
  },
  "language_info": {
   "codemirror_mode": {
    "name": "ipython",
    "version": 3
   },
   "file_extension": ".py",
   "mimetype": "text/x-python",
   "name": "python",
   "nbconvert_exporter": "python",
   "pygments_lexer": "ipython3",
   "version": "3.11.2"
  },
  "orig_nbformat": 4
 },
 "nbformat": 4,
 "nbformat_minor": 2
}
