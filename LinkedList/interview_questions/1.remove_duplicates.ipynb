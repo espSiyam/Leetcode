{
 "cells": [
  {
   "cell_type": "code",
   "execution_count": 6,
   "metadata": {},
   "outputs": [
    {
     "name": "stdout",
     "output_type": "stream",
     "text": [
      "7 > 1 > 9 > 2 > 3 > 3 > 7 > 5 > 1 > 2\n",
      "7 > 1 > 9 > 2 > 3 > 5\n"
     ]
    }
   ],
   "source": [
    "from linkedlist import LinkedList\n",
    "\n",
    "def remove_duplicates(llist):\n",
    "    if llist.head is None:\n",
    "        print(\"Linked list is emplty!\")\n",
    "\n",
    "    current_node = llist.head\n",
    "    visited = set([current_node.value])\n",
    "\n",
    "    while current_node.next:\n",
    "        # We start checking from the next element as we already have the first element.\n",
    "        # However, we cannot check the next element of the last node (if visited), as it will be None.\n",
    "        # So, we terminate the loop when current_node.next is None.\n",
    "\n",
    "        # Check if the next node's value is already visited\n",
    "        if current_node.next.value in visited:\n",
    "            # The next node is a duplicate, so we modify the current node to skip the duplicate node.\n",
    "            # By assigning current_node.next to current_node.next.next, we effectively remove the duplicate node.\n",
    "            current_node.next = current_node.next.next\n",
    "        else:\n",
    "            # The next node is unique, so we add its value to the set of visited nodes.\n",
    "            visited.add(current_node.next.value)\n",
    "            # Move to the next node for comparison.\n",
    "            current_node = current_node.next # Right\n",
    "\n",
    "        # current_node = current_node.next # Wrong\n",
    "        # The line below will not work because, after removing a duplicate node,\n",
    "        # we can't compare the current node with the next node by simply moving to the next node.\n",
    "        # This is because the current node changes after removing a duplicate node.\n",
    "        # For example, consider the sequence: 70, 32, 49, 70, 49\n",
    "        # After removing the duplicate node '70', we still want to compare the current node (3rd node: 49) with the next node.\n",
    "        # If we change the current node to the next node after removing the duplicate 49, we would still have duplicate nodes (49, 49).\n",
    "\n",
    "llist = LinkedList()\n",
    "llist.generate(10, 1, 10)\n",
    "print(llist)  # Print the original linked list\n",
    "remove_duplicates(llist)  # Remove duplicates\n",
    "print(llist)  # Print the modified linked list"
   ]
  },
  {
   "cell_type": "code",
   "execution_count": 7,
   "metadata": {},
   "outputs": [
    {
     "name": "stdout",
     "output_type": "stream",
     "text": [
      "4 > 8 > 0 > 8 > 7 > 4 > 8 > 5 > 5 > 1\n",
      "4 > 8 > 0 > 7 > 5 > 1\n"
     ]
    }
   ],
   "source": [
    "from linkedlist import LinkedList\n",
    "\n",
    "def remove_duplicates2(llist):\n",
    "    current_node = llist.head\n",
    "    while current_node:\n",
    "        runner = current_node\n",
    "        while runner.next:\n",
    "            if runner.next.value == current_node.value:\n",
    "                runner.next = runner.next.next\n",
    "            else:\n",
    "                runner = runner.next\n",
    "        current_node = current_node.next\n",
    "\n",
    "llist = LinkedList()\n",
    "llist.generate(10,0,10)\n",
    "print(llist)\n",
    "remove_duplicates2(llist)\n",
    "print(llist)"
   ]
  },
  {
   "cell_type": "code",
   "execution_count": null,
   "metadata": {},
   "outputs": [],
   "source": []
  }
 ],
 "metadata": {
  "kernelspec": {
   "display_name": "Python 3",
   "language": "python",
   "name": "python3"
  },
  "language_info": {
   "codemirror_mode": {
    "name": "ipython",
    "version": 3
   },
   "file_extension": ".py",
   "mimetype": "text/x-python",
   "name": "python",
   "nbconvert_exporter": "python",
   "pygments_lexer": "ipython3",
   "version": "3.11.2"
  },
  "orig_nbformat": 4
 },
 "nbformat": 4,
 "nbformat_minor": 2
}
