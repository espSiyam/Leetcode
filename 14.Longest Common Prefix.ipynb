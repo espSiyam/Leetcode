{
 "cells": [
  {
   "cell_type": "code",
   "execution_count": 20,
   "metadata": {},
   "outputs": [],
   "source": [
    "def longestPrefix(str):\n",
    "    # Finding the min len. lcp can't be larger than the minlen\n",
    "    minlen = len(strs[0])\n",
    "    for i in range(1,len(strs)):\n",
    "        minlen = min(len(strs[i]), minlen)\n",
    "\n",
    "    #Initially lcp is 0. If we find any value, then we'll append\n",
    "    lcp = \"\" \n",
    "    i = 0\n",
    "\n",
    "    # Iterate till minlen\n",
    "    while i < minlen:\n",
    "        char = strs[0][i]\n",
    "        for j in range(1, len(strs)):\n",
    "            if strs[j][i] != char:\n",
    "                return lcp\n",
    "        lcp += char\n",
    "        i+=1\n",
    "    return lcp"
   ]
  },
  {
   "cell_type": "code",
   "execution_count": 21,
   "metadata": {},
   "outputs": [
    {
     "name": "stdout",
     "output_type": "stream",
     "text": [
      "fl\n"
     ]
    }
   ],
   "source": [
    "strs = [\"flower\",\"flow\",\"flight\"]\n",
    "print(longestPrefix(strs))"
   ]
  },
  {
   "cell_type": "code",
   "execution_count": null,
   "metadata": {},
   "outputs": [],
   "source": []
  }
 ],
 "metadata": {
  "kernelspec": {
   "display_name": "Python 3",
   "language": "python",
   "name": "python3"
  },
  "language_info": {
   "codemirror_mode": {
    "name": "ipython",
    "version": 3
   },
   "file_extension": ".py",
   "mimetype": "text/x-python",
   "name": "python",
   "nbconvert_exporter": "python",
   "pygments_lexer": "ipython3",
   "version": "3.7.7"
  }
 },
 "nbformat": 4,
 "nbformat_minor": 4
}
