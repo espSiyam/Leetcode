{
 "cells": [
  {
   "cell_type": "markdown",
   "metadata": {},
   "source": [
    "## 136. Single Number\n",
    "\n",
    "Given a non-empty array of integers nums, every element appears twice except for one. Find that single one.\n",
    "You must implement a solution with a linear runtime complexity and use only constant extra space.\n",
    "\n",
    "### Example 1:\n",
    "\n",
    "Input: nums = [4,1,2,1,2]\n",
    "\n",
    "Output: 4"
   ]
  },
  {
   "cell_type": "markdown",
   "metadata": {},
   "source": [
    "# Solving using hash table.\n",
    "\n",
    "This is O(n) time and space complexity"
   ]
  },
  {
   "cell_type": "code",
   "execution_count": null,
   "metadata": {},
   "outputs": [],
   "source": [
    "nums = [4,1,2,1,2]\n",
    "\n",
    "stack = []\n",
    "\n",
    "for num in nums:\n",
    "    if num not in stack:\n",
    "        stack.append(num)\n",
    "    else:\n",
    "        stack.remove(num)\n",
    "print(stack[0])"
   ]
  },
  {
   "cell_type": "markdown",
   "metadata": {},
   "source": [
    "## Better approach (XOR):\n",
    "\n",
    "This is O(n) time complexity and O(1) space complexity\n",
    "\n",
    "**Approach:**\n",
    "\n",
    "rule of XOR: \n",
    "\n",
    "0 XOR 0 = 0, \n",
    "\n",
    "1 XOR 1 = 0,\n",
    "\n",
    "0 XOR 1 = 1,\n",
    "\n",
    "1 XOR 0 = 1, \n",
    "\n",
    "For our problem: nums = [4,1,2,1,2]\n",
    "\n",
    "For 1, 1 XOR 1 = 0\n",
    "\n",
    "for 2, 2 XOR 2 = 0\n",
    "\n",
    "So, [1 XOR 1 XOR 2 XOR 2 XOR 4] = [0 XOR 0 XOR 4] = [4]"
   ]
  },
  {
   "cell_type": "code",
   "execution_count": null,
   "metadata": {},
   "outputs": [],
   "source": []
  }
 ],
 "metadata": {
  "kernelspec": {
   "display_name": "Python 3",
   "language": "python",
   "name": "python3"
  },
  "language_info": {
   "codemirror_mode": {
    "name": "ipython",
    "version": 3
   },
   "file_extension": ".py",
   "mimetype": "text/x-python",
   "name": "python",
   "nbconvert_exporter": "python",
   "pygments_lexer": "ipython3",
   "version": "3.7.7"
  }
 },
 "nbformat": 4,
 "nbformat_minor": 4
}
