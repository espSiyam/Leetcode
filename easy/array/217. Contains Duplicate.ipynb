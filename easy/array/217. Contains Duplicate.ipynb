{
 "cells": [
  {
   "cell_type": "markdown",
   "metadata": {},
   "source": [
    "Given an integer array nums, return true if any value appears at least twice in the array, and return false if every element is distinct.\n",
    "\n",
    "Input: nums = [1,2,3,1]\n",
    "\n",
    "Output: true"
   ]
  },
  {
   "cell_type": "markdown",
   "metadata": {},
   "source": [
    "### Naive Approach: (Not Accepted)"
   ]
  },
  {
   "cell_type": "code",
   "execution_count": null,
   "metadata": {},
   "outputs": [],
   "source": [
    "nums = [1,1,1,3,3,4,3,2,4,2]\n",
    "\n",
    "count = 0\n",
    "for i in range(len(nums)-1):\n",
    "    for j in range(i+1, len(nums)):\n",
    "        if nums[i] == nums[j]:\n",
    "            count += 1\n",
    "if count > 0:\n",
    "    print(\"True\")\n",
    "else:\n",
    "    print(\"False\")"
   ]
  },
  {
   "cell_type": "markdown",
   "metadata": {},
   "source": [
    "Time Limit Exceeded\n",
    "\n",
    "### Slightly better: (Not accepted)"
   ]
  },
  {
   "cell_type": "code",
   "execution_count": null,
   "metadata": {},
   "outputs": [],
   "source": [
    "nums = [1,1,1,3,3,4,3,2,4,2]\n",
    "\n",
    "count = 0\n",
    "for i in range(len(nums)-1):\n",
    "    for j in range(i+1, len(nums)):\n",
    "        if nums[i] == nums[j]:\n",
    "            return True\n",
    "return False"
   ]
  },
  {
   "cell_type": "markdown",
   "metadata": {},
   "source": [
    "# Best one --> Using stack"
   ]
  },
  {
   "cell_type": "code",
   "execution_count": 11,
   "metadata": {},
   "outputs": [
    {
     "name": "stdout",
     "output_type": "stream",
     "text": [
      "duplicate number is:  1\n",
      "duplicate number is:  1\n",
      "duplicate number is:  3\n",
      "duplicate number is:  3\n",
      "duplicate number is:  4\n",
      "duplicate number is:  2\n"
     ]
    }
   ],
   "source": [
    "nums = [1,1,1,3,3,4,3,2,4,2]\n",
    "stack = []\n",
    "\n",
    "for i in range(len(nums)):\n",
    "    if nums[i] in stack:\n",
    "        print(\"duplicate number is: \", nums[i])\n",
    "    else:\n",
    "        stack.append(nums[i])"
   ]
  },
  {
   "cell_type": "markdown",
   "metadata": {},
   "source": [
    "# Easiest"
   ]
  },
  {
   "cell_type": "code",
   "execution_count": 18,
   "metadata": {},
   "outputs": [
    {
     "data": {
      "text/plain": [
       "{1, 2, 3, 4, 9}"
      ]
     },
     "execution_count": 18,
     "metadata": {},
     "output_type": "execute_result"
    }
   ],
   "source": [
    "nums = [1,1,1,3,3,4,9,9,9,3,2,4,2]\n",
    "set(nums)"
   ]
  },
  {
   "cell_type": "code",
   "execution_count": 15,
   "metadata": {},
   "outputs": [
    {
     "name": "stdout",
     "output_type": "stream",
     "text": [
      "False\n"
     ]
    }
   ],
   "source": [
    "nums = [1,2,3,4]\n",
    "\n",
    "unique_numbers = set(nums)\n",
    "\n",
    "if len(nums) == len(unique_numbers):\n",
    "    print(\"False\")\n",
    "else:\n",
    "    print(\"True\")"
   ]
  },
  {
   "cell_type": "code",
   "execution_count": 5,
   "metadata": {},
   "outputs": [],
   "source": [
    "class Solution(object):\n",
    "    def containsDuplicate(self, nums):\n",
    "        temp = []\n",
    "        for i in range(len(nums)):\n",
    "            if nums[i] in temp:\n",
    "                return True\n",
    "            else:\n",
    "                temp.append(nums[i])\n",
    "        return False\n",
    "        \"\"\"\n",
    "        :type nums: List[int]\n",
    "        :rtype: bool\n",
    "        \"\"\""
   ]
  },
  {
   "cell_type": "code",
   "execution_count": null,
   "metadata": {},
   "outputs": [],
   "source": [
    "#     Method 1 -- Apply hashtable O(n)\n",
    "    hashNum = {}\n",
    "    for i in nums:\n",
    "        if i not in hashNum:\n",
    "            hashNum[i] = 1\n",
    "        else:\n",
    "            return True\n",
    "    return False\n",
    "    \n",
    "#     Method 2 -- Sorting\n",
    "    l =  len(nums)\n",
    "    if l < 2:\n",
    "        return False\n",
    "    nums.sort()\n",
    "    for i in range(l-1):\n",
    "        if nums[i] == nums[i+1]:\n",
    "            return True\n",
    "    return False\n",
    "    \n",
    "#     Method 3 -- Set solution for python\n",
    "    numsSet =  set(nums)\n",
    "    if len(nums) == len(numsSet):\n",
    "        return F"
   ]
  }
 ],
 "metadata": {
  "kernelspec": {
   "display_name": "Python 3",
   "language": "python",
   "name": "python3"
  },
  "language_info": {
   "codemirror_mode": {
    "name": "ipython",
    "version": 3
   },
   "file_extension": ".py",
   "mimetype": "text/x-python",
   "name": "python",
   "nbconvert_exporter": "python",
   "pygments_lexer": "ipython3",
   "version": "3.7.7"
  }
 },
 "nbformat": 4,
 "nbformat_minor": 4
}
