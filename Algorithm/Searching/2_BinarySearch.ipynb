{
 "cells": [
  {
   "cell_type": "markdown",
   "metadata": {},
   "source": [
    "# Binary Search Requires sorted array"
   ]
  },
  {
   "cell_type": "code",
   "execution_count": 23,
   "metadata": {},
   "outputs": [],
   "source": [
    "def BinarySearch(arr, find, start, end):\n",
    "    while start <= end:\n",
    "        mid = int((start + end)/2)\n",
    "        \n",
    "        if arr[mid] == find:\n",
    "            return mid\n",
    "        \n",
    "        elif arr[mid] > find:\n",
    "            end = mid -1\n",
    "        else:\n",
    "            start = mid +1\n",
    "    return -1"
   ]
  },
  {
   "cell_type": "code",
   "execution_count": 28,
   "metadata": {},
   "outputs": [
    {
     "name": "stdout",
     "output_type": "stream",
     "text": [
      "3\n"
     ]
    }
   ],
   "source": [
    "arr = [10, 20, 30, 50, 60, 80, 100, 110, 130, 170]\n",
    "find = 50\n",
    "position = BinarySearch(arr, find, 0, len(arr)-1)\n",
    "if position == -1:\n",
    "    print(\"Not found\")\n",
    "else:\n",
    "    print(position)"
   ]
  },
  {
   "cell_type": "code",
   "execution_count": null,
   "metadata": {},
   "outputs": [],
   "source": []
  }
 ],
 "metadata": {
  "kernelspec": {
   "display_name": "Python 3",
   "language": "python",
   "name": "python3"
  },
  "language_info": {
   "codemirror_mode": {
    "name": "ipython",
    "version": 3
   },
   "file_extension": ".py",
   "mimetype": "text/x-python",
   "name": "python",
   "nbconvert_exporter": "python",
   "pygments_lexer": "ipython3",
   "version": "3.7.7"
  }
 },
 "nbformat": 4,
 "nbformat_minor": 4
}
