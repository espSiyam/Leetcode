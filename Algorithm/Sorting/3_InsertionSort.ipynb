{
 "cells": [
  {
   "cell_type": "code",
   "execution_count": 5,
   "metadata": {},
   "outputs": [
    {
     "name": "stdout",
     "output_type": "stream",
     "text": [
      "Sorted array is:  [11, 12, 22, 25, 64]\n"
     ]
    }
   ],
   "source": [
    "def InsertionSort(arr):\n",
    "    \n",
    "    for i in range(1, len(arr)):\n",
    "        \n",
    "        item = arr[i]\n",
    "        j = i-1\n",
    "        \n",
    "        while j>=0 and (arr[j] > item):\n",
    "            arr[j+1] = arr[j]\n",
    "            j -= 1\n",
    "            \n",
    "        arr[j+1] = item\n",
    "    return arr\n",
    "\n",
    "A = [64, 25, 12, 22, 11]\n",
    "Sorted = InsertionSort(A)\n",
    "print(\"Sorted array is: \", Sorted)"
   ]
  },
  {
   "cell_type": "code",
   "execution_count": null,
   "metadata": {},
   "outputs": [],
   "source": []
  }
 ],
 "metadata": {
  "kernelspec": {
   "display_name": "Python 3",
   "language": "python",
   "name": "python3"
  },
  "language_info": {
   "codemirror_mode": {
    "name": "ipython",
    "version": 3
   },
   "file_extension": ".py",
   "mimetype": "text/x-python",
   "name": "python",
   "nbconvert_exporter": "python",
   "pygments_lexer": "ipython3",
   "version": "3.7.7"
  }
 },
 "nbformat": 4,
 "nbformat_minor": 4
}
