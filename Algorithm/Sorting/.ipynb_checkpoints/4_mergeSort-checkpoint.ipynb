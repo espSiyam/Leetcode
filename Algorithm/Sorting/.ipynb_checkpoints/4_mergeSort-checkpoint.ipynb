{
 "cells": [
  {
   "cell_type": "code",
   "execution_count": 1,
   "metadata": {},
   "outputs": [],
   "source": [
    "def mergeSort(myList):\n",
    "    if len(myList) > 1:\n",
    "        mid = len(myList) // 2\n",
    "        left = myList[:mid]\n",
    "        right = myList[mid:]\n",
    "        \n",
    "        # Recursive call on each half to divide them till single elements\n",
    "        mergeSort(left)\n",
    "        mergeSort(right)\n",
    "        \n",
    "        # Two iterators for traversing the two halves\n",
    "        i = 0\n",
    "        j = 0\n",
    "        \n",
    "        # Iterator for the main list\n",
    "        k = 0\n",
    "        \n",
    "        # Merging the divided elements in appropiate positions\n",
    "        while i < len(left) and j < len(right): # less than as index starts from 0\n",
    "            if left[i] <= right[i]:\n",
    "                myList[k] = left[i]\n",
    "                i += 1\n",
    "            else:\n",
    "                myList[k] = right[j]\n",
    "                j += 1\n",
    "            k += 1\n",
    "            \n",
    "        # For all the remaining values\n",
    "        while i < len(left):\n",
    "            myList[k] = left[i]\n",
    "            i += 1\n",
    "            k += 1\n",
    "        while j < len(right):\n",
    "            myList[k] = right[j]\n",
    "            j += 1\n",
    "            k += 1"
   ]
  },
  {
   "cell_type": "code",
   "execution_count": 2,
   "metadata": {},
   "outputs": [
    {
     "name": "stdout",
     "output_type": "stream",
     "text": [
      "[17, 20, 55, 44, 31, 77, 93, 26, 54]\n"
     ]
    }
   ],
   "source": [
    "myList = [54,26,93,17,77,31,44,55,20]\n",
    "mergeSort(myList)\n",
    "print(myList)"
   ]
  },
  {
   "cell_type": "markdown",
   "metadata": {},
   "source": [
    "Time Complexity\n",
    "Best Case Complexity: O(n*log n)\n",
    "\n",
    "Worst Case Complexity: O(n*log n)\n",
    "\n",
    "Average Case Complexity: O(n*log n)\n",
    "\n",
    "Space Complexity\n",
    "The space complexity of merge sort is O(n)."
   ]
  }
 ],
 "metadata": {
  "kernelspec": {
   "display_name": "Python 3",
   "language": "python",
   "name": "python3"
  },
  "language_info": {
   "codemirror_mode": {
    "name": "ipython",
    "version": 3
   },
   "file_extension": ".py",
   "mimetype": "text/x-python",
   "name": "python",
   "nbconvert_exporter": "python",
   "pygments_lexer": "ipython3",
   "version": "3.7.7"
  }
 },
 "nbformat": 4,
 "nbformat_minor": 4
}
