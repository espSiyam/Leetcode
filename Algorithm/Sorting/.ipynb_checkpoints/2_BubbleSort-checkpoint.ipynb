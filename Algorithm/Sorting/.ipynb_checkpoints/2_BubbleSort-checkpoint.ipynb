{
 "cells": [
  {
   "cell_type": "code",
   "execution_count": 31,
   "metadata": {},
   "outputs": [
    {
     "name": "stdout",
     "output_type": "stream",
     "text": [
      "Sorted Array is:  [11, 12, 22, 25, 64]\n",
      "Total Iteration is:  4\n"
     ]
    }
   ],
   "source": [
    "def BubbleSort(A):\n",
    "    \n",
    "    for i in range(len(A)):\n",
    "        count = 0 # To check the number of iterations\n",
    "        for j in range(len(A)-1):\n",
    "            count +=1\n",
    "            if A[j] > A[j+1]:\n",
    "                A[j], A[j+1] = A[j+1], A[j]\n",
    "                \n",
    "    return A, count\n",
    "\n",
    "A = [64, 25, 12, 22, 11]\n",
    "Sorted, count = BubbleSort(A)\n",
    "print(\"Sorted Array is: \", Sorted)\n",
    "print(\"Total Iteration is: \", count)"
   ]
  },
  {
   "cell_type": "markdown",
   "metadata": {},
   "source": [
    "# Optimized"
   ]
  },
  {
   "cell_type": "code",
   "execution_count": 32,
   "metadata": {},
   "outputs": [
    {
     "name": "stdout",
     "output_type": "stream",
     "text": [
      "Sorted Array is:  [11, 12, 22, 25, 64]\n",
      "Total Iteration is:  0\n"
     ]
    }
   ],
   "source": [
    "def BubbleSort2(a):\n",
    "    \n",
    "    for i in range(len(a)):\n",
    "        count = 0 # To check the number of iterations\n",
    "        for j in range(len(a)-i-1): # Beacuse after each iteration, larges number will be in last position. So, we can skip that.\n",
    "            count += 1\n",
    "            if a[j] > a[j+1]:\n",
    "                a[j], a[j+1] = a[j+1], a[j]\n",
    "    return a, count\n",
    "\n",
    "A2 = [64, 25, 12, 22, 11]\n",
    "Sorted, count = BubbleSort2(A2)\n",
    "print(\"Sorted Array is: \", Sorted)\n",
    "print(\"Total Iteration is: \", count)"
   ]
  }
 ],
 "metadata": {
  "kernelspec": {
   "display_name": "Python 3",
   "language": "python",
   "name": "python3"
  },
  "language_info": {
   "codemirror_mode": {
    "name": "ipython",
    "version": 3
   },
   "file_extension": ".py",
   "mimetype": "text/x-python",
   "name": "python",
   "nbconvert_exporter": "python",
   "pygments_lexer": "ipython3",
   "version": "3.7.7"
  }
 },
 "nbformat": 4,
 "nbformat_minor": 4
}
