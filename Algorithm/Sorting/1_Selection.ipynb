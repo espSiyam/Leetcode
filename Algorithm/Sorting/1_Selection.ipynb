{
 "cells": [
  {
   "cell_type": "code",
   "execution_count": 11,
   "metadata": {},
   "outputs": [],
   "source": [
    "def SelectionSort(A):\n",
    "    for i in range((len(A))-1): # loop through all elements except the last one as last one will be compared( In j)\n",
    "        imin = i # Initially we'll flag first element as smallest then scan the lowest element after the i'th element\n",
    "        for j in range(i+1,len(A)): # To scan if there is any num less than the initial min\n",
    "            if A[j] < A[imin]:\n",
    "                imin = j # if any num is less than min, we'll update the min\n",
    "        A[i], A[imin] = A[imin],A[i] # Swap the first element with min element\n",
    "    return A       "
   ]
  },
  {
   "cell_type": "code",
   "execution_count": 12,
   "metadata": {},
   "outputs": [],
   "source": [
    "A = [64, 25, 12, 22, 11]\n",
    "Sorted = SelectionSort(A)"
   ]
  },
  {
   "cell_type": "code",
   "execution_count": 13,
   "metadata": {},
   "outputs": [
    {
     "data": {
      "text/plain": [
       "[11, 12, 22, 25, 64]"
      ]
     },
     "execution_count": 13,
     "metadata": {},
     "output_type": "execute_result"
    }
   ],
   "source": [
    "Sorted"
   ]
  }
 ],
 "metadata": {
  "kernelspec": {
   "display_name": "Python 3",
   "language": "python",
   "name": "python3"
  },
  "language_info": {
   "codemirror_mode": {
    "name": "ipython",
    "version": 3
   },
   "file_extension": ".py",
   "mimetype": "text/x-python",
   "name": "python",
   "nbconvert_exporter": "python",
   "pygments_lexer": "ipython3",
   "version": "3.7.7"
  }
 },
 "nbformat": 4,
 "nbformat_minor": 4
}
