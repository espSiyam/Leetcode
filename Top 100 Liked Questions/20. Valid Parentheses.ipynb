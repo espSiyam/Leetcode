{
 "cells": [
  {
   "cell_type": "markdown",
   "metadata": {},
   "source": [
    "Given a string s containing just the characters '(', ')', '{', '}', '[' and ']', determine if the input string is valid.\n",
    "\n",
    "An input string is valid if:\n",
    "\n",
    "* Open brackets must be closed by the same type of brackets.\n",
    "* Open brackets must be closed in the correct order."
   ]
  },
  {
   "cell_type": "markdown",
   "metadata": {},
   "source": [
    "### Easies Solution (But high time complexity):\n",
    "\n",
    "If the parenthesis is valid, then **in each step one pair will be removed.**\n",
    "\n",
    "If it doesn't happen for any step, then length before and after removing will be the same. Then we can return **False**\n",
    "\n",
    "Otherwise all the parenthesis will be removed and loop will break out. In this case, we'll return **True**"
   ]
  },
  {
   "cell_type": "code",
   "execution_count": 43,
   "metadata": {},
   "outputs": [
    {
     "name": "stdout",
     "output_type": "stream",
     "text": [
      "Fail!: Invalid\n",
      "Valid parenthesis:  (([))]\n"
     ]
    }
   ],
   "source": [
    "s = \"(([))]\" \n",
    "while len(s) > 0:\n",
    "    l = len(s)\n",
    "    s = s.replace('()','').replace('{}','').replace('[]','')\n",
    "    if l==len(s):\n",
    "        print(\"Fail!: Invalid\")\n",
    "        break\n",
    "    \n",
    "print(\"Valid parenthesis: \",s)"
   ]
  },
  {
   "cell_type": "markdown",
   "metadata": {},
   "source": [
    "For while loop: time complexity is O(n)\n",
    "\n",
    "and for replacing parenthesis, time complexity is O(n).\n",
    "\n",
    "As replacing condition is inside the loop, Total time complexirt is: **O(n^2)**\n",
    "\n",
    "### Better Solution (using stack):"
   ]
  },
  {
   "cell_type": "code",
   "execution_count": 110,
   "metadata": {},
   "outputs": [
    {
     "name": "stdout",
     "output_type": "stream",
     "text": [
      "For:  ( , Stacking:  )\n",
      "For:  [ , Stacking:  ]\n",
      "For:  { , Stacking:  }\n",
      "\n",
      "For:  }  Popping:  }\n",
      "\n",
      "For:  ]  Popping:  ]\n",
      "\n",
      "For:  )  Popping:  )\n"
     ]
    }
   ],
   "source": [
    "string = \"([{}])\"\n",
    "\n",
    "mapping = {'(' : ')', '[': ']', '{': '}'}\n",
    "stack = []\n",
    "\n",
    "for c in string:\n",
    "    if c in mapping:\n",
    "        print(\"For: \",c, end=\" \")\n",
    "        stack.append(mapping[c])\n",
    "        print(\", Stacking: \", (mapping[c]))\n",
    "    \n",
    "    elif len(stack)>0 and c == stack[-1]:\n",
    "        print(\"\\nFor: \",c,\" Popping: \", stack[-1])\n",
    "        stack.pop()\n",
    "        \n",
    "    else:\n",
    "        print(\"Wrong!\")"
   ]
  },
  {
   "cell_type": "markdown",
   "metadata": {},
   "source": [
    "### Test Cases:\n",
    "\n",
    "\"()\"\n",
    "\n",
    "\"()[]{}\"\n",
    "\n",
    "\"(]\"\n",
    "\n",
    "\"([)]\"\n",
    "\n",
    "\"{[]}\""
   ]
  },
  {
   "cell_type": "markdown",
   "metadata": {},
   "source": [
    "# Expalination"
   ]
  },
  {
   "cell_type": "code",
   "execution_count": 111,
   "metadata": {},
   "outputs": [],
   "source": [
    "class Solution(object):\n",
    "    def isValid(self, s):\n",
    "        \"\"\"\n",
    "        :type s: str\n",
    "        :rtype: bool\n",
    "        \"\"\"\n",
    "        \n",
    "        \"\"\"\n",
    "        Runtime: 4 ms, faster than 99.98% of Python online submissions for Valid Parentheses.\n",
    "        Memory Usage: 13.5 MB, less than 59.39% of Python online submissions for Valid Parentheses.\n",
    "        \"\"\"\n",
    "        ##Mapping the Parentheses\n",
    "        m = {'(' : ')', '[': ']', '{': '}'}\n",
    "        ##Adding the expected values to stack\n",
    "        stack = []\n",
    "        \n",
    "        ##Iterating through the input array\n",
    "        for i in s:\n",
    "            ## cheacking if the value in the map\n",
    "            if i in m:\n",
    "                ## append to stack the expected values\n",
    "                stack.append(m[i])\n",
    "            ##If not, then we check if the stack is not empty and that the value matches the last value added to the stack\n",
    "            elif len(stack) > 0 and i == stack[-1]:\n",
    "                ## if true, then we pop it (remove it)\n",
    "                stack.pop()\n",
    "            else:\n",
    "                ## if none of the cases matches then we just return false\n",
    "                return False\n",
    "        ## if all the data in stack is popped then we just compare the length of stack to 0 (there should be no element left)\n",
    "        return len(stack) == 0"
   ]
  },
  {
   "cell_type": "code",
   "execution_count": null,
   "metadata": {},
   "outputs": [],
   "source": []
  }
 ],
 "metadata": {
  "kernelspec": {
   "display_name": "Python 3",
   "language": "python",
   "name": "python3"
  },
  "language_info": {
   "codemirror_mode": {
    "name": "ipython",
    "version": 3
   },
   "file_extension": ".py",
   "mimetype": "text/x-python",
   "name": "python",
   "nbconvert_exporter": "python",
   "pygments_lexer": "ipython3",
   "version": "3.7.7"
  }
 },
 "nbformat": 4,
 "nbformat_minor": 4
}
