{
 "cells": [
  {
   "cell_type": "markdown",
   "metadata": {},
   "source": [
    "Given a string s containing just the characters '(', ')', '{', '}', '[' and ']', determine if the input string is valid.\n",
    "\n",
    "An input string is valid if:\n",
    "\n",
    "* Open brackets must be closed by the same type of brackets.\n",
    "* Open brackets must be closed in the correct order."
   ]
  },
  {
   "cell_type": "markdown",
   "metadata": {},
   "source": [
    "### Easies Solution (But high time complexity):\n",
    "\n",
    "If the parenthesis is valid, then **in each step one pair will be removed.**\n",
    "\n",
    "If it doesn't happen for any step, then length before and after removing will be the same. Then we can return **False**\n",
    "\n",
    "Otherwise all the parenthesis will be removed and loop will break out. In this case, we'll return **True**"
   ]
  },
  {
   "cell_type": "code",
   "execution_count": 43,
   "metadata": {},
   "outputs": [
    {
     "name": "stdout",
     "output_type": "stream",
     "text": [
      "Fail!: Invalid\n",
      "Valid parenthesis:  (([))]\n"
     ]
    }
   ],
   "source": [
    "s = \"(([))]\" \n",
    "while len(s) > 0:\n",
    "    l = len(s)\n",
    "    s = s.replace('()','').replace('{}','').replace('[]','')\n",
    "    if l==len(s):\n",
    "        print(\"Fail!: Invalid\")\n",
    "        break\n",
    "    \n",
    "print(\"Valid parenthesis: \",s)"
   ]
  },
  {
   "cell_type": "markdown",
   "metadata": {},
   "source": [
    "For while loop: time complexity is O(n)\n",
    "\n",
    "and for replacing parenthesis, time complexity is O(n).\n",
    "\n",
    "As replacing condition is inside the loop, Total time complexirt is: **O(n^2)**\n",
    "\n",
    "### Better Solution (using stack):"
   ]
  },
  {
   "cell_type": "code",
   "execution_count": null,
   "metadata": {},
   "outputs": [],
   "source": []
  },
  {
   "cell_type": "markdown",
   "metadata": {},
   "source": [
    "### Test Cases:\n",
    "\n",
    "\"()\"\n",
    "\n",
    "\"()[]{}\"\n",
    "\n",
    "\"(]\"\n",
    "\n",
    "\"([)]\"\n",
    "\n",
    "\"{[]}\""
   ]
  }
 ],
 "metadata": {
  "kernelspec": {
   "display_name": "Python 3",
   "language": "python",
   "name": "python3"
  },
  "language_info": {
   "codemirror_mode": {
    "name": "ipython",
    "version": 3
   },
   "file_extension": ".py",
   "mimetype": "text/x-python",
   "name": "python",
   "nbconvert_exporter": "python",
   "pygments_lexer": "ipython3",
   "version": "3.7.7"
  }
 },
 "nbformat": 4,
 "nbformat_minor": 4
}
