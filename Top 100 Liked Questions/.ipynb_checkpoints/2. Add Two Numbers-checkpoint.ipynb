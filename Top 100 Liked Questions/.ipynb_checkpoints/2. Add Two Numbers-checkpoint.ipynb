{
 "cells": [
  {
   "cell_type": "code",
   "execution_count": null,
   "metadata": {},
   "outputs": [],
   "source": [
    "# Definition for singly-linked list.\n",
    "# class ListNode(object):\n",
    "#     def __init__(self, val=0, next=None):\n",
    "#         self.val = val\n",
    "#         self.next = next\n",
    "class Solution(object):\n",
    "    def addTwoNumbers(self, l1, l2):\n",
    "        # It is just a placeholder so that we can attach value(sum) to it. First value of this is 0.\n",
    "        dummyHead = ListNode(0) # print(dummyHead.val) == 0. We'll use dummyHead.next while returning                   \n",
    "        carry = 0\n",
    "        \n",
    "        curr = dummyHead # This will act like a pointer for sum of the linked nodes.\n",
    "        # l1 and l2 are also pointers for first and second linked list\n",
    "        \n",
    "        while l1 or l2: # untlill l1 or l2 has any value, loop will continue\n",
    "            if l1: # if l1 has any value\n",
    "                l1_val = l1.val\n",
    "            else: # When l1 is empty ([1,2,3] after 3, l1 won't have any value)\n",
    "                l1_val = 0 # assign 0 as we have to add the vale to l2. We can't add None\n",
    "            \n",
    "            if l2:\n",
    "                l2_val = l2.val\n",
    "            else:\n",
    "                l2_val = 0\n",
    "                \n",
    "            # [5], [7] = [12]    \n",
    "            sum_ = l1_val + l2_val + carry # 5+7+0 = 12. But we can't keep 12 at a node.\n",
    "            value = sum_ % 10\n",
    "            curr.next = ListNode(value)\n",
    "            curr = curr.next # Pointing to the next element of the list\n",
    "            carry = sum_ // 10 # Updating the carry\n",
    "            \n",
    "            if l1:\n",
    "                l1 = l1.next # If l1 still exist, we point to the next element of l1\n",
    "            if l2:\n",
    "                l2 = l2.next # If l2 still exist, we point to the next element of l2\n",
    "        \n",
    "        if carry: # [1,2,6], [1,2,6] = [2,4,2,1]. Here last 1 is the carry that we need to add.\n",
    "            carry.next = ListNode(carry)\n",
    "        \n",
    "        return dummyHead.next # As first element is 0 and we want to return from 2nd element\n",
    "        \"\"\"\n",
    "        :type l1: ListNode\n",
    "        :type l2: ListNode\n",
    "        :rtype: ListNode\n",
    "        \"\"\"\n",
    "        "
   ]
  }
 ],
 "metadata": {
  "kernelspec": {
   "display_name": "Python 3",
   "language": "python",
   "name": "python3"
  },
  "language_info": {
   "codemirror_mode": {
    "name": "ipython",
    "version": 3
   },
   "file_extension": ".py",
   "mimetype": "text/x-python",
   "name": "python",
   "nbconvert_exporter": "python",
   "pygments_lexer": "ipython3",
   "version": "3.7.7"
  }
 },
 "nbformat": 4,
 "nbformat_minor": 4
}
