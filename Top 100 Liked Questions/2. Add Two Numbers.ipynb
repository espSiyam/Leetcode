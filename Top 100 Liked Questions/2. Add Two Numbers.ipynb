{
 "cells": [
  {
   "cell_type": "markdown",
   "metadata": {},
   "source": [
    "# Final Solution"
   ]
  },
  {
   "cell_type": "code",
   "execution_count": 127,
   "metadata": {},
   "outputs": [],
   "source": [
    "l1 = [9,9,9,9,9,9,9]\n",
    "l2 = [9,9,9,9]\n",
    "\n",
    "l1 = [0]\n",
    "l2 = [0]\n",
    "\n",
    "l1 = [9,9,9,9,9,9,9]\n",
    "l2 = [9,9,9,9]"
   ]
  },
  {
   "cell_type": "code",
   "execution_count": 128,
   "metadata": {},
   "outputs": [],
   "source": [
    "# For l1 (342)\n",
    "\n",
    "if(len(l1)==1 and len(l2)==1):\n",
    "    a = l1[0]\n",
    "    b = l2[0]\n",
    "    add  = a + b\n",
    "    lis = [add]\n",
    "else:\n",
    "    ini = l1[0]\n",
    "    for i in range(len(l1)-1):\n",
    "        a = ini*10+l1[i+1]\n",
    "        ini = a\n",
    "\n",
    "    # For l1 (465)\n",
    "    ini = l2[0]\n",
    "    for i in range(len(l2)-1):\n",
    "        b = ini*10+l2[i+1]\n",
    "        ini = b\n",
    "    \n",
    "    # Summation of two values of linked list\n",
    "    add  = a + b\n",
    "\n",
    "\n",
    "    if(len(l1)==1):\n",
    "        a = l1[0]\n",
    "        \n",
    "    # Converting the result as linked list format (Reverse list)\n",
    "    num = add\n",
    "    lis = []\n",
    "\n",
    "    while num > 0:\n",
    "        value = num % 10\n",
    "        lis.append(value)\n",
    "        num = num // 10"
   ]
  },
  {
   "cell_type": "code",
   "execution_count": 129,
   "metadata": {},
   "outputs": [
    {
     "data": {
      "text/plain": [
       "[8, 9, 9, 9, 0, 0, 0, 1]"
      ]
     },
     "execution_count": 129,
     "metadata": {},
     "output_type": "execute_result"
    }
   ],
   "source": [
    "lis"
   ]
  },
  {
   "cell_type": "markdown",
   "metadata": {},
   "source": [
    "# Breaking Down"
   ]
  },
  {
   "cell_type": "markdown",
   "metadata": {},
   "source": [
    "## Reverse the list"
   ]
  },
  {
   "cell_type": "code",
   "execution_count": 64,
   "metadata": {},
   "outputs": [
    {
     "data": {
      "text/plain": [
       "[6, 5, 4, 3, 2, 1]"
      ]
     },
     "execution_count": 64,
     "metadata": {},
     "output_type": "execute_result"
    }
   ],
   "source": [
    "l1 = [1,2,3,4,5,6]\n",
    "revierse = l1[: : -1]\n",
    "l1= revierse\n",
    "l1"
   ]
  },
  {
   "cell_type": "markdown",
   "metadata": {},
   "source": [
    "## Algorithm to convert list to value ([6, 5, 4, 3, 2, 1] to 654321)"
   ]
  },
  {
   "cell_type": "markdown",
   "metadata": {},
   "source": [
    "6*10+5 = 65\n",
    "\n",
    "65*10+4 = 654\n",
    "\n",
    "654*10+3 = 6543\n",
    "\n",
    "6543*10+2 = 65432\n",
    "\n",
    "65432*10+1 = 654321"
   ]
  },
  {
   "cell_type": "code",
   "execution_count": 65,
   "metadata": {},
   "outputs": [
    {
     "name": "stdout",
     "output_type": "stream",
     "text": [
      "Final Result:  654321\n"
     ]
    }
   ],
   "source": [
    "ini = l1[0]\n",
    "for i in range(len(l1)-1):\n",
    "    a = ini*10+l1[i+1]\n",
    "    ini = a\n",
    "    \n",
    "print(\"Final Result: \",a)"
   ]
  },
  {
   "cell_type": "markdown",
   "metadata": {},
   "source": [
    "# The problem"
   ]
  },
  {
   "cell_type": "code",
   "execution_count": 73,
   "metadata": {},
   "outputs": [],
   "source": [
    "l1 = [2,4,3]\n",
    "l2 = [5,6,4]"
   ]
  },
  {
   "cell_type": "code",
   "execution_count": 74,
   "metadata": {},
   "outputs": [
    {
     "name": "stdout",
     "output_type": "stream",
     "text": [
      "[3, 4, 2]\n",
      "[4, 6, 5]\n"
     ]
    }
   ],
   "source": [
    "l1 = l1[::-1]\n",
    "l2 = l2[::-1]\n",
    "\n",
    "print(l1)\n",
    "print(l2)"
   ]
  },
  {
   "cell_type": "code",
   "execution_count": 75,
   "metadata": {},
   "outputs": [
    {
     "name": "stdout",
     "output_type": "stream",
     "text": [
      "Final Result:  342\n"
     ]
    }
   ],
   "source": [
    "ini = l1[0]\n",
    "for i in range(len(l1)-1):\n",
    "    a = ini*10+l1[i+1]\n",
    "    ini = a\n",
    "    \n",
    "print(\"Final Result: \",a)"
   ]
  },
  {
   "cell_type": "code",
   "execution_count": 76,
   "metadata": {},
   "outputs": [
    {
     "name": "stdout",
     "output_type": "stream",
     "text": [
      "Final Result:  465\n"
     ]
    }
   ],
   "source": [
    "ini = l2[0]\n",
    "for i in range(len(l2)-1):\n",
    "    b = ini*10+l2[i+1]\n",
    "    ini = b\n",
    "    \n",
    "print(\"Final Result: \",b)"
   ]
  },
  {
   "cell_type": "code",
   "execution_count": 77,
   "metadata": {},
   "outputs": [
    {
     "data": {
      "text/plain": [
       "342"
      ]
     },
     "execution_count": 77,
     "metadata": {},
     "output_type": "execute_result"
    }
   ],
   "source": [
    "a"
   ]
  },
  {
   "cell_type": "code",
   "execution_count": 78,
   "metadata": {},
   "outputs": [
    {
     "data": {
      "text/plain": [
       "465"
      ]
     },
     "execution_count": 78,
     "metadata": {},
     "output_type": "execute_result"
    }
   ],
   "source": [
    "b"
   ]
  },
  {
   "cell_type": "code",
   "execution_count": 80,
   "metadata": {},
   "outputs": [
    {
     "data": {
      "text/plain": [
       "807"
      ]
     },
     "execution_count": 80,
     "metadata": {},
     "output_type": "execute_result"
    }
   ],
   "source": [
    "summation = a + b\n",
    "summation"
   ]
  },
  {
   "cell_type": "markdown",
   "metadata": {},
   "source": [
    "# Num to  list\n",
    "807 = [8,0,7]\n",
    "\n",
    "\n",
    "1234\n",
    "\n",
    "1234 % 10 = 4 +\n",
    "\n",
    "1234 / 10 = 123\n",
    "\n",
    "123 % 10 = 3 +\n",
    "\n",
    "123/10 = 12\n",
    "\n",
    "12 % 10 = 2 +\n",
    "\n",
    "12 / 10 = 1\n",
    "\n",
    "1 % 10 = 1 +\n",
    "\n",
    "list = 4, 3, 2, 1"
   ]
  },
  {
   "cell_type": "code",
   "execution_count": 83,
   "metadata": {},
   "outputs": [],
   "source": [
    "num = 12345\n",
    "lis = []"
   ]
  },
  {
   "cell_type": "code",
   "execution_count": 84,
   "metadata": {},
   "outputs": [],
   "source": [
    "while num > 0:\n",
    "    value = num % 10\n",
    "    lis.append(value)\n",
    "    num = num // 10"
   ]
  },
  {
   "cell_type": "code",
   "execution_count": 85,
   "metadata": {},
   "outputs": [
    {
     "data": {
      "text/plain": [
       "[5, 4, 3, 2, 1]"
      ]
     },
     "execution_count": 85,
     "metadata": {},
     "output_type": "execute_result"
    }
   ],
   "source": [
    "lis"
   ]
  },
  {
   "cell_type": "markdown",
   "metadata": {},
   "source": [
    "# Solving the code"
   ]
  },
  {
   "cell_type": "code",
   "execution_count": 86,
   "metadata": {},
   "outputs": [
    {
     "data": {
      "text/plain": [
       "[7, 0, 8]"
      ]
     },
     "execution_count": 86,
     "metadata": {},
     "output_type": "execute_result"
    }
   ],
   "source": [
    "num = summation\n",
    "lis = []\n",
    "\n",
    "while num > 0:\n",
    "    value = num % 10\n",
    "    lis.append(value)\n",
    "    num = num // 10\n",
    "    \n",
    "lis"
   ]
  },
  {
   "cell_type": "code",
   "execution_count": 90,
   "metadata": {},
   "outputs": [],
   "source": []
  }
 ],
 "metadata": {
  "kernelspec": {
   "display_name": "Python 3",
   "language": "python",
   "name": "python3"
  },
  "language_info": {
   "codemirror_mode": {
    "name": "ipython",
    "version": 3
   },
   "file_extension": ".py",
   "mimetype": "text/x-python",
   "name": "python",
   "nbconvert_exporter": "python",
   "pygments_lexer": "ipython3",
   "version": "3.7.7"
  }
 },
 "nbformat": 4,
 "nbformat_minor": 4
}
