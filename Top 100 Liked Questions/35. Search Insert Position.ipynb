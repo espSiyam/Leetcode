{
 "cells": [
  {
   "cell_type": "code",
   "execution_count": 30,
   "metadata": {},
   "outputs": [],
   "source": [
    "def BinarySearch(nums, left, right, target):\n",
    "    while right >= left:\n",
    "        mid = (left + right)//2\n",
    "        \n",
    "        if nums[mid]==target:\n",
    "            return mid\n",
    "        elif nums[mid] > target:\n",
    "            right = mid-1\n",
    "        else:\n",
    "            left = mid + 1\n",
    "    return left"
   ]
  },
  {
   "cell_type": "code",
   "execution_count": 35,
   "metadata": {},
   "outputs": [
    {
     "data": {
      "text/plain": [
       "0"
      ]
     },
     "execution_count": 35,
     "metadata": {},
     "output_type": "execute_result"
    }
   ],
   "source": [
    "nums = [2]\n",
    "target = 1\n",
    "\n",
    "right = len(nums)-1\n",
    "BinarySearch(nums, 0, right, target)"
   ]
  },
  {
   "cell_type": "markdown",
   "metadata": {},
   "source": [
    "### Explainination:\n",
    "\n",
    "https://www.youtube.com/watch?v=K-RYzDZkzCI&ab_channel=NeetCode"
   ]
  },
  {
   "cell_type": "code",
   "execution_count": 29,
   "metadata": {},
   "outputs": [],
   "source": [
    "class Solution(object):\n",
    "    def searchInsert(self, nums, target):\n",
    "        l, r = 0, len(nums) - 1\n",
    "        \n",
    "        while l<=r:\n",
    "            mid = (l+r) // 2\n",
    "            \n",
    "            if target == nums[mid]:\n",
    "                return mid\n",
    "        \n",
    "            elif target > nums[mid]:\n",
    "                l = mid + 1\n",
    "        \n",
    "            else:\n",
    "                r = mid - 1\n",
    "            \n",
    "        return l "
   ]
  },
  {
   "cell_type": "code",
   "execution_count": 44,
   "metadata": {},
   "outputs": [
    {
     "name": "stdout",
     "output_type": "stream",
     "text": [
      "1\n"
     ]
    },
    {
     "data": {
      "text/plain": [
       "1"
      ]
     },
     "execution_count": 44,
     "metadata": {},
     "output_type": "execute_result"
    }
   ],
   "source": [
    "def searchInsert1(nums, target):\n",
    "    l, r = 0, len(nums) - 1\n",
    "    while l<=r:\n",
    "        mid = (l+r) // 2\n",
    "        \n",
    "        if target == nums[mid]:\n",
    "            return mid\n",
    "        \n",
    "        elif target > nums[mid]:\n",
    "            l = mid + 1\n",
    "        else:\n",
    "            r = mid - 1\n",
    "    return l \n",
    "\n",
    "nums = [2]\n",
    "target = 5\n",
    "\n",
    "searchInsert1(nums, target)"
   ]
  },
  {
   "cell_type": "code",
   "execution_count": null,
   "metadata": {},
   "outputs": [],
   "source": []
  }
 ],
 "metadata": {
  "kernelspec": {
   "display_name": "Python 3",
   "language": "python",
   "name": "python3"
  },
  "language_info": {
   "codemirror_mode": {
    "name": "ipython",
    "version": 3
   },
   "file_extension": ".py",
   "mimetype": "text/x-python",
   "name": "python",
   "nbconvert_exporter": "python",
   "pygments_lexer": "ipython3",
   "version": "3.7.7"
  }
 },
 "nbformat": 4,
 "nbformat_minor": 4
}
