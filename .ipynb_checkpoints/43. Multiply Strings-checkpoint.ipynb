{
 "cells": [
  {
   "cell_type": "code",
   "execution_count": 29,
   "metadata": {},
   "outputs": [
    {
     "name": "stdout",
     "output_type": "stream",
     "text": [
      "12345\n"
     ]
    }
   ],
   "source": [
    "string = \"12345\"\n",
    "value = {'0':0, '1':1, '2':2, '3':3, '4':4, '5':5, '6':6, '7':7, '8':8, '9':9}\n",
    "\n",
    "count = value[string[0]]\n",
    "for i in range(len(string)-1):\n",
    "    count = count * 10 + value[string[i+1]]\n",
    "\n",
    "print(count)"
   ]
  },
  {
   "cell_type": "code",
   "execution_count": 32,
   "metadata": {},
   "outputs": [
    {
     "name": "stdout",
     "output_type": "stream",
     "text": [
      "123\n",
      "456\n"
     ]
    }
   ],
   "source": [
    "num1 = \"123\"\n",
    "value = {'0':0, '1':1, '2':2, '3':3, '4':4, '5':5, '6':6, '7':7, '8':8, '9':9}\n",
    "\n",
    "count1 = value[num1[0]]\n",
    "\n",
    "for i in range(len(num1)-1):\n",
    "    count1 = count1 * 10 + value[num1[i+1]]\n",
    "print(count1)\n",
    "############################################################################################\n",
    "num2 = \"456\"\n",
    "count2 = value[num2[0]]\n",
    "\n",
    "for i in range(len(num2)-1):\n",
    "    count2 = count2 * 10 + value[num2[i+1]]\n",
    "print(count2)"
   ]
  },
  {
   "cell_type": "code",
   "execution_count": null,
   "metadata": {},
   "outputs": [],
   "source": [
    "class Solution(object):\n",
    "    def multiply(self, num1, num2):\n",
    "        value = {'0':0, '1':1, '2':2, '3':3, '4':4, '5':5, '6':6, '7':7, '8':8, '9':9}\n",
    "        \n",
    "        count1 = value[num1[0]]\n",
    "        for i in range(len(num1)-1):\n",
    "            count1 = count1 * 10 + value[num1[i+1]]\n",
    "            \n",
    "        count2 = value[num2[0]]\n",
    "        for i in range(len(num2)-1):\n",
    "            count2 = count2 * 10 + value[num2[i+1]]\n",
    "        \n",
    "        return str(count1 * count2)"
   ]
  }
 ],
 "metadata": {
  "kernelspec": {
   "display_name": "Python 3",
   "language": "python",
   "name": "python3"
  },
  "language_info": {
   "codemirror_mode": {
    "name": "ipython",
    "version": 3
   },
   "file_extension": ".py",
   "mimetype": "text/x-python",
   "name": "python",
   "nbconvert_exporter": "python",
   "pygments_lexer": "ipython3",
   "version": "3.7.7"
  }
 },
 "nbformat": 4,
 "nbformat_minor": 4
}
