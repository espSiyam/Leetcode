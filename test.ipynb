{
 "cells": [
  {
   "cell_type": "code",
   "execution_count": 11,
   "metadata": {},
   "outputs": [
    {
     "name": "stdout",
     "output_type": "stream",
     "text": [
      "(al) al\n",
      "G G\n",
      "(al) al\n",
      "() o\n",
      "() o\n",
      "G G\n",
      ">>>>>>> alGalooG\n"
     ]
    }
   ],
   "source": [
    "command = \"(al)G(al)()()G\"\n",
    "mapping = {'(al)':'al', '()': 'o', 'G':'G'}\n",
    "\n",
    "res = \"\"\n",
    "tmp = \"\"\n",
    "\n",
    "for data in command:\n",
    "    tmp = tmp + data\n",
    "    if tmp in mapping:\n",
    "        res = res + mapping[tmp]\n",
    "        tmp = \"\"\n",
    "\n",
    "print(\">>>>>>>\",res)"
   ]
  },
  {
   "cell_type": "code",
   "execution_count": 2,
   "metadata": {},
   "outputs": [
    {
     "name": "stdout",
     "output_type": "stream",
     "text": [
      ">>>>>>> alGalooG\n"
     ]
    }
   ],
   "source": [
    "command = \"(al)G(al)()()G\"\n",
    "mapping = {'(al)':'al', '()': 'o', 'G':'G'}\n",
    "\n",
    "res = []\n",
    "tmp = \"\"\n",
    "\n",
    "for data in command:\n",
    "    tmp += data\n",
    "    if tmp in mapping:\n",
    "        res.append(mapping[tmp])\n",
    "        tmp = \"\"\n",
    "\n",
    "print(\">>>>>>>\",\"\".join(res))"
   ]
  },
  {
   "cell_type": "code",
   "execution_count": 5,
   "metadata": {},
   "outputs": [
    {
     "data": {
      "text/plain": [
       "'alGalooG'"
      ]
     },
     "execution_count": 5,
     "metadata": {},
     "output_type": "execute_result"
    }
   ],
   "source": [
    "command.replace(\"()\",\"o\").replace(\"(al)\",\"al\")"
   ]
  },
  {
   "cell_type": "code",
   "execution_count": 14,
   "metadata": {},
   "outputs": [
    {
     "data": {
      "text/plain": [
       "'alGalooG'"
      ]
     },
     "execution_count": 14,
     "metadata": {},
     "output_type": "execute_result"
    }
   ],
   "source": [
    "\"\".join(res)"
   ]
  },
  {
   "cell_type": "code",
   "execution_count": 13,
   "metadata": {},
   "outputs": [
    {
     "ename": "AttributeError",
     "evalue": "'list' object has no attribute 'join'",
     "output_type": "error",
     "traceback": [
      "\u001b[0;31m---------------------------------------------------------------------------\u001b[0m",
      "\u001b[0;31mAttributeError\u001b[0m                            Traceback (most recent call last)",
      "Cell \u001b[0;32mIn[13], line 1\u001b[0m\n\u001b[0;32m----> 1\u001b[0m res\u001b[39m.\u001b[39;49mjoin()\n",
      "\u001b[0;31mAttributeError\u001b[0m: 'list' object has no attribute 'join'"
     ]
    }
   ],
   "source": [
    "res.join()"
   ]
  },
  {
   "cell_type": "code",
   "execution_count": null,
   "metadata": {},
   "outputs": [],
   "source": []
  }
 ],
 "metadata": {
  "kernelspec": {
   "display_name": "concured",
   "language": "python",
   "name": "python3"
  },
  "language_info": {
   "codemirror_mode": {
    "name": "ipython",
    "version": 3
   },
   "file_extension": ".py",
   "mimetype": "text/x-python",
   "name": "python",
   "nbconvert_exporter": "python",
   "pygments_lexer": "ipython3",
   "version": "3.11.2"
  },
  "orig_nbformat": 4
 },
 "nbformat": 4,
 "nbformat_minor": 2
}
